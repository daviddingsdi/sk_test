{
 "cells": [
  {
   "cell_type": "code",
   "execution_count": 1,
   "id": "51a2f01b-74ce-490f-b9e3-9b8115dfbf59",
   "metadata": {},
   "outputs": [],
   "source": [
    "import semantic_kernel as sk\n",
    "\n",
    "kernel = sk.Kernel()"
   ]
  },
  {
   "cell_type": "code",
   "execution_count": 2,
   "id": "69a773bf-49fe-4efd-b054-7cbb34a6984e",
   "metadata": {},
   "outputs": [
    {
     "data": {
      "text/plain": [
       "<semantic_kernel.kernel.Kernel at 0x2a8f173ac90>"
      ]
     },
     "execution_count": 2,
     "metadata": {},
     "output_type": "execute_result"
    }
   ],
   "source": [
    "from semantic_kernel.connectors.ai.open_ai import OpenAIChatCompletion\n",
    "\n",
    "api_key, org_id = sk.openai_settings_from_dot_env()\n",
    "\n",
    "gpt_model = \"gpt-3.5-turbo-1106\"\n",
    "# gpt_model = \"gpt-3.5-turbo\"\n",
    "\n",
    "kernel.add_chat_service(\"chat-gpt\", OpenAIChatCompletion(ai_model_id=gpt_model, api_key=api_key, org_id=org_id))"
   ]
  },
  {
   "cell_type": "code",
   "execution_count": 3,
   "id": "1a272888-ce4d-48d9-a5de-277f7f01e078",
   "metadata": {},
   "outputs": [],
   "source": [
    "ask = \"\"\"\n",
    "Tomorrow is Valentine's day. I need to come up with a few date ideas. She speaks Chinese so write it in Chinese.\n",
    "\"\"\""
   ]
  },
  {
   "cell_type": "code",
   "execution_count": 4,
   "id": "07a67aca-ceb8-4458-9523-1d4b4ad3884d",
   "metadata": {},
   "outputs": [],
   "source": [
    "from semantic_kernel.core_skills.text_skill import TextSkill\n",
    "\n",
    "skills_directory = \"../samples/skills/\"\n",
    "summarize_skill = kernel.import_semantic_skill_from_directory(skills_directory, \"SummarizeSkill\")\n",
    "writer_skill = kernel.import_semantic_skill_from_directory(skills_directory, \"WriterSkill\")\n",
    "text_skill = kernel.import_skill(TextSkill(), \"TextSkill\")"
   ]
  },
  {
   "cell_type": "code",
   "execution_count": 5,
   "id": "4d48fffe-684c-43ef-b245-1a39af30192b",
   "metadata": {},
   "outputs": [],
   "source": [
    "from semantic_kernel.planning.basic_planner import BasicPlanner\n",
    "planner = BasicPlanner()"
   ]
  },
  {
   "cell_type": "code",
   "execution_count": 6,
   "id": "00e5447d-2f6b-423d-9ba4-4c736aebfac2",
   "metadata": {},
   "outputs": [],
   "source": [
    "basic_plan = await planner.create_plan_async(ask, kernel)"
   ]
  },
  {
   "cell_type": "code",
   "execution_count": 7,
   "id": "2a735cca-003a-4a61-b0f4-0481d21a3baa",
   "metadata": {},
   "outputs": [
    {
     "name": "stdout",
     "output_type": "stream",
     "text": [
      "{\n",
      "    \"input\": \"Valentine's Day Date Ideas\",\n",
      "    \"subtasks\": [\n",
      "        {\"function\": \"WriterSkill.Brainstorm\"},\n",
      "        {\"function\": \"WriterSkill.Translate\", \"args\": {\"language\": \"Chinese\"}}\n",
      "    ]\n",
      "}\n"
     ]
    }
   ],
   "source": [
    "print(basic_plan.generated_plan)"
   ]
  },
  {
   "cell_type": "code",
   "execution_count": 9,
   "id": "a11a58e5-0748-431d-b9d0-0c87945b412c",
   "metadata": {},
   "outputs": [],
   "source": [
    "results = await planner.execute_plan_async(basic_plan, kernel)"
   ]
  },
  {
   "cell_type": "code",
   "execution_count": 10,
   "id": "e9bb28c4-5cf4-49fc-946d-3977cd36ee00",
   "metadata": {},
   "outputs": [
    {
     "name": "stdout",
     "output_type": "stream",
     "text": [
      "1. 在一家高档餐厅享受浪漫的烛光晚餐\n",
      "2. 在公园野餐，吃着心形三明治和起泡酒\n",
      "3. 一起做一顿自制晚餐\n",
      "4. 去风景优美的远足，顶部享受野餐\n",
      "5. 一起去情侣水疗中心，享受按摩和面部护理\n",
      "6. 去山上一个舒适的小木屋度过浪漫的周末\n",
      "7. 在家里看你最喜欢的浪漫电影\n",
      "8. 乘船观赏日落，享受香槟祝酒\n",
      "9. 一起参加舞蹈课程，学习一种新的舞蹈风格\n",
      "10. 参加当地葡萄园的品酒之旅\n"
     ]
    }
   ],
   "source": [
    "print(results)"
   ]
  },
  {
   "cell_type": "markdown",
   "id": "eb89a5bc-9e81-40d6-831f-7f130bb10b8b",
   "metadata": {},
   "source": [
    "## Action Planner"
   ]
  },
  {
   "cell_type": "code",
   "execution_count": 11,
   "id": "046744c9-d6c7-49af-90a5-5c3ef6aab608",
   "metadata": {},
   "outputs": [],
   "source": [
    "from semantic_kernel.planning import ActionPlanner\n",
    "planner = ActionPlanner(kernel)"
   ]
  },
  {
   "cell_type": "code",
   "execution_count": 12,
   "id": "b074860b-4e18-45fc-8436-8c8431db60b8",
   "metadata": {},
   "outputs": [
    {
     "data": {
      "text/plain": [
       "{'lowercase': SKFunction(FUNCTION_PARAM_NAME_REGEX='^[0-9A-Za-z_]*$', FUNCTION_NAME_REGEX='^[0-9A-Za-z_]*$', SKILL_NAME_REGEX='^[0-9A-Za-z_]*$'),\n",
       " 'trim': SKFunction(FUNCTION_PARAM_NAME_REGEX='^[0-9A-Za-z_]*$', FUNCTION_NAME_REGEX='^[0-9A-Za-z_]*$', SKILL_NAME_REGEX='^[0-9A-Za-z_]*$'),\n",
       " 'trim_end': SKFunction(FUNCTION_PARAM_NAME_REGEX='^[0-9A-Za-z_]*$', FUNCTION_NAME_REGEX='^[0-9A-Za-z_]*$', SKILL_NAME_REGEX='^[0-9A-Za-z_]*$'),\n",
       " 'trim_start': SKFunction(FUNCTION_PARAM_NAME_REGEX='^[0-9A-Za-z_]*$', FUNCTION_NAME_REGEX='^[0-9A-Za-z_]*$', SKILL_NAME_REGEX='^[0-9A-Za-z_]*$'),\n",
       " 'uppercase': SKFunction(FUNCTION_PARAM_NAME_REGEX='^[0-9A-Za-z_]*$', FUNCTION_NAME_REGEX='^[0-9A-Za-z_]*$', SKILL_NAME_REGEX='^[0-9A-Za-z_]*$')}"
      ]
     },
     "execution_count": 12,
     "metadata": {},
     "output_type": "execute_result"
    }
   ],
   "source": [
    "from semantic_kernel.core_skills import FileIOSkill, MathSkill, TextSkill, TimeSkill\n",
    "kernel.import_skill(MathSkill(), \"math\")\n",
    "kernel.import_skill(FileIOSkill(), \"fileIO\")\n",
    "kernel.import_skill(TimeSkill(), \"time\")\n",
    "kernel.import_skill(TextSkill(), \"text\")"
   ]
  },
  {
   "cell_type": "code",
   "execution_count": 13,
   "id": "ba75f8d7-225f-4145-8334-35cd8bcd57f6",
   "metadata": {},
   "outputs": [],
   "source": [
    "ask = \"What is the sum of 110 and 990?\""
   ]
  },
  {
   "cell_type": "code",
   "execution_count": 14,
   "id": "7dad5f93-7cce-47bb-89ae-9cbed68978f1",
   "metadata": {},
   "outputs": [],
   "source": [
    "plan = await planner.create_plan_async(goal=ask)"
   ]
  },
  {
   "cell_type": "code",
   "execution_count": 15,
   "id": "fd8c07f7-884c-41a2-9db4-068dbd2a8d3a",
   "metadata": {},
   "outputs": [],
   "source": [
    "result = await plan.invoke_async()"
   ]
  },
  {
   "cell_type": "code",
   "execution_count": 16,
   "id": "d58cc7ee-ee69-4b5e-aeb9-e7ad43718697",
   "metadata": {},
   "outputs": [
    {
     "name": "stdout",
     "output_type": "stream",
     "text": [
      "1100\n"
     ]
    }
   ],
   "source": [
    "print(result)"
   ]
  },
  {
   "cell_type": "markdown",
   "id": "09b7785c-1348-4a15-8be1-817f02577133",
   "metadata": {},
   "source": [
    "## Stepwise Planner"
   ]
  },
  {
   "cell_type": "code",
   "execution_count": 7,
   "id": "e2a43ff7-7a72-406d-b5d2-866c931276c5",
   "metadata": {},
   "outputs": [],
   "source": [
    "from semantic_kernel.planning import StepwisePlanner\n",
    "from semantic_kernel.planning.stepwise_planner.stepwise_planner_config import (\n",
    "    StepwisePlannerConfig,\n",
    ")"
   ]
  },
  {
   "cell_type": "code",
   "execution_count": 8,
   "id": "6916d097-f511-4176-8f16-d0d6ba7225bf",
   "metadata": {},
   "outputs": [],
   "source": [
    "class WebSearchEngineSkill:\n",
    "    \"\"\"\n",
    "    A search engine skill.\n",
    "    \"\"\"\n",
    "    from semantic_kernel.orchestration.sk_context import SKContext\n",
    "    from semantic_kernel.skill_definition import sk_function, sk_function_context_parameter\n",
    "\n",
    "    def __init__(self, connector) -> None:\n",
    "        self._connector = connector\n",
    "\n",
    "    @sk_function(\n",
    "        description=\"Performs a web search for a given query\", name=\"searchAsync\"\n",
    "    )\n",
    "    @sk_function_context_parameter(\n",
    "        name=\"query\",\n",
    "        description=\"The search query\",\n",
    "    )\n",
    "    async def search_async(self, query: str, context: SKContext) -> str:\n",
    "        query = query or context.variables.get(\"query\")[1]\n",
    "        result = await self._connector.search_async(query, num_results=5, offset=0)\n",
    "        return str(result)"
   ]
  },
  {
   "cell_type": "code",
   "execution_count": 9,
   "id": "c80e6873-d7e5-48fc-b133-a4fbde2eef26",
   "metadata": {},
   "outputs": [
    {
     "data": {
      "text/plain": [
       "{'searchAsync': SKFunction(FUNCTION_PARAM_NAME_REGEX='^[0-9A-Za-z_]*$', FUNCTION_NAME_REGEX='^[0-9A-Za-z_]*$', SKILL_NAME_REGEX='^[0-9A-Za-z_]*$')}"
      ]
     },
     "execution_count": 9,
     "metadata": {},
     "output_type": "execute_result"
    }
   ],
   "source": [
    "from semantic_kernel.connectors.search_engine import BingConnector\n",
    "\n",
    "BING_API_KEY = sk.bing_search_settings_from_dot_env()\n",
    "connector = BingConnector(BING_API_KEY)\n",
    "kernel.import_skill(WebSearchEngineSkill(connector), skill_name=\"WebSearch\")"
   ]
  },
  {
   "cell_type": "code",
   "execution_count": 10,
   "id": "55e6bdd6-ede6-4e36-a715-e9cf4cbc5b88",
   "metadata": {},
   "outputs": [
    {
     "data": {
      "text/plain": [
       "{'Add': SKFunction(FUNCTION_PARAM_NAME_REGEX='^[0-9A-Za-z_]*$', FUNCTION_NAME_REGEX='^[0-9A-Za-z_]*$', SKILL_NAME_REGEX='^[0-9A-Za-z_]*$'),\n",
       " 'Subtract': SKFunction(FUNCTION_PARAM_NAME_REGEX='^[0-9A-Za-z_]*$', FUNCTION_NAME_REGEX='^[0-9A-Za-z_]*$', SKILL_NAME_REGEX='^[0-9A-Za-z_]*$')}"
      ]
     },
     "execution_count": 10,
     "metadata": {},
     "output_type": "execute_result"
    }
   ],
   "source": [
    "from semantic_kernel.core_skills.math_skill import MathSkill\n",
    "from semantic_kernel.core_skills.time_skill import TimeSkill\n",
    "\n",
    "kernel.import_skill(TimeSkill(), \"time\")\n",
    "kernel.import_skill(MathSkill(), \"math\")"
   ]
  },
  {
   "cell_type": "code",
   "execution_count": 11,
   "id": "f75f5103-be0d-4817-90af-bd032f31eece",
   "metadata": {},
   "outputs": [],
   "source": [
    "planner = StepwisePlanner(\n",
    "    kernel, StepwisePlannerConfig(max_iterations=10, min_iteration_time_ms=1000)\n",
    ")"
   ]
  },
  {
   "cell_type": "code",
   "execution_count": 12,
   "id": "52034eb1-52b6-4a08-914f-6cf5281de54c",
   "metadata": {},
   "outputs": [],
   "source": [
    "ask = \"\"\"Which NBA team has won the most championships?\"\"\"\n",
    "\n",
    "plan = planner.create_plan(goal=ask)"
   ]
  },
  {
   "cell_type": "code",
   "execution_count": 13,
   "id": "75b548a0-a06d-480b-be8e-1cc7115e41be",
   "metadata": {},
   "outputs": [],
   "source": [
    "result = await plan.invoke_async()"
   ]
  },
  {
   "cell_type": "code",
   "execution_count": 14,
   "id": "077173b1-6c4c-490a-b9a4-5c69a941a7fb",
   "metadata": {},
   "outputs": [
    {
     "name": "stdout",
     "output_type": "stream",
     "text": [
      "The search did not return the expected results. I will attempt to use a different approach to find the answer to the question.\n"
     ]
    }
   ],
   "source": [
    "print(result)"
   ]
  },
  {
   "cell_type": "code",
   "execution_count": 15,
   "id": "84fb0489-c761-43c3-90e2-9e28a1c8da0c",
   "metadata": {},
   "outputs": [
    {
     "name": "stdout",
     "output_type": "stream",
     "text": [
      "Step: 0\n",
      "Description: Execute a plan\n",
      "Function: StepwisePlanner.ExecutePlan\n",
      "  Output:\n",
      " This was my previous work (but they haven't seen any of it! They only see what I return as final answer):\n",
      "  [THOUGHT]\n",
      "  I can use the WebSearch.searchAsync function to perform a web search for the query \"NBA team with most championships\" and find the answer.\n",
      "  [ACTION]\n",
      "  {\"action\": \"WebSearch.searchAsync\", \"action_variables\": {\"query\": \"NBA team with most championships\"}}\n",
      "  [OBSERVATION]\n",
      "  [\"Bitcoin prices surge for first time since April Cointelegraph Spot Bitcoin ETFs could be rejected if the SEC wants 'more time' — Analyst 1 hour ago Bloomberg.com\", '#1 Bitcoin BTCUSDBitstamp BTCUSDBitstamp 44293USD +1428 +3.33% As of today at 14:48 UTC-8 See on Supercharts Overview Timeline News Ideas Technicals Markets BTCUSD chart Price Market Cap Today −4.79% Week 0.71% 1 month 7.06% 6 months 43.18% Year to date 1.31% 1 year 156.86% 5 years 1030.93% All time 392679.82% Key stats Market capitalization', 'All About Bitcoin Money Reimagined Community Crypto View all shows What the Banking Crisis Means for NFTs Matrixport Head of Research Addresses Spot Bitcoin ETF Prediction Could Crypto Lobbying...', 'What Is Bitcoin (BTC)? Bitcoin is a decentralized cryptocurrency originally described in a 2008 whitepaper by a person, or group of people, using the alias Satoshi Nakamoto. It was launched soon after, in January 2009.']\n",
      "  [THOUGHT]\n",
      "  None\n"
     ]
    }
   ],
   "source": [
    "for index, step in enumerate(plan._steps):\n",
    "    print(\"Step:\", index)\n",
    "    print(\"Description:\",step.description)\n",
    "    print(\"Function:\", step.skill_name + \".\" + step._function.name)\n",
    "    if len(step._outputs) > 0:\n",
    "        print( \"  Output:\\n\", str.replace(result[step._outputs[0]],\"\\n\", \"\\n  \"))"
   ]
  },
  {
   "cell_type": "code",
   "execution_count": null,
   "id": "673a8842-a9a0-4ce0-8830-6c78b88cbed2",
   "metadata": {},
   "outputs": [],
   "source": []
  }
 ],
 "metadata": {
  "kernelspec": {
   "display_name": "Python 3 (ipykernel)",
   "language": "python",
   "name": "python3"
  },
  "language_info": {
   "codemirror_mode": {
    "name": "ipython",
    "version": 3
   },
   "file_extension": ".py",
   "mimetype": "text/x-python",
   "name": "python",
   "nbconvert_exporter": "python",
   "pygments_lexer": "ipython3",
   "version": "3.12.1"
  }
 },
 "nbformat": 4,
 "nbformat_minor": 5
}
