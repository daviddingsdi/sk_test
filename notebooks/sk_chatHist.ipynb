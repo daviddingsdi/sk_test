{
 "cells": [
  {
   "cell_type": "code",
   "execution_count": 1,
   "metadata": {},
   "outputs": [],
   "source": [
    "import semantic_kernel as sk\n",
    "\n",
    "kernel = sk.Kernel()"
   ]
  },
  {
   "cell_type": "code",
   "execution_count": 2,
   "metadata": {},
   "outputs": [
    {
     "data": {
      "text/plain": [
       "<semantic_kernel.kernel.Kernel at 0x20c7b913a70>"
      ]
     },
     "execution_count": 2,
     "metadata": {},
     "output_type": "execute_result"
    }
   ],
   "source": [
    "from semantic_kernel.connectors.ai.open_ai import OpenAIChatCompletion\n",
    "\n",
    "api_key, org_id = sk.openai_settings_from_dot_env()\n",
    "\n",
    "kernel.add_chat_service(\"chat-gpt\", OpenAIChatCompletion(ai_model_id=\"gpt-3.5-turbo\", api_key=api_key, org_id=org_id))"
   ]
  },
  {
   "cell_type": "code",
   "execution_count": 3,
   "metadata": {},
   "outputs": [],
   "source": [
    "sk_prompt = \"\"\"\n",
    "ChatBot can have a conversation with you about any topic.\n",
    "It can give explicit instructions or say 'I don't know' if it does not have an answer.\n",
    "\n",
    "{{$history}}\n",
    "User: {{$user_input}}\n",
    "ChatBot: \"\"\""
   ]
  },
  {
   "cell_type": "code",
   "execution_count": 4,
   "metadata": {},
   "outputs": [],
   "source": [
    "chat_function = kernel.create_semantic_function(\n",
    "    prompt_template=sk_prompt,\n",
    "    function_name=\"ChatBot\",\n",
    "    max_tokens=2000,\n",
    "    temperature=0.7,\n",
    "    top_p=0.5)"
   ]
  },
  {
   "cell_type": "code",
   "execution_count": 5,
   "metadata": {},
   "outputs": [],
   "source": [
    "context = kernel.create_new_context()\n",
    "context[\"history\"] = \"\""
   ]
  },
  {
   "cell_type": "code",
   "execution_count": 6,
   "metadata": {},
   "outputs": [
    {
     "name": "stdout",
     "output_type": "stream",
     "text": [
      "One famous samurai story is the tale of the 47 Ronin. It is a true story that took place in 18th century Japan. The story revolves around a group of samurai who seek revenge for the death of their master. After their master is forced to commit ritual suicide, the samurai become ronin, or masterless samurai. They spend years planning and preparing for their revenge, eventually succeeding in their mission. The story is often seen as a symbol of loyalty, honor, and the samurai code of conduct.\n"
     ]
    }
   ],
   "source": [
    "context[\"user_input\"] = \"Hi, tell me about a famous samurai story\"\n",
    "bot_answer = await chat_function.invoke_async(context=context)\n",
    "print(bot_answer)"
   ]
  },
  {
   "cell_type": "code",
   "execution_count": 7,
   "metadata": {},
   "outputs": [],
   "source": [
    "context[\"history\"] += f\"\\nUser: {context['user_input']}\\nChatBot: {bot_answer}\\n\""
   ]
  },
  {
   "cell_type": "code",
   "execution_count": 8,
   "metadata": {},
   "outputs": [],
   "source": [
    "async def chat(input_text: str) -> None:\n",
    "    # Save new message in the context variables\n",
    "    print(f\"User: {input_text}\")\n",
    "    context[\"user_input\"] = input_text\n",
    "\n",
    "    # Process the user message and get an answer\n",
    "    answer = await chat_function.invoke_async(context=context)\n",
    "\n",
    "    # Show the response\n",
    "    print(f\"ChatBot: {answer}\")\n",
    "\n",
    "    # Append the new interaction to the chat history\n",
    "    context[\"history\"] += f\"\\nUser: {input_text}\\nChatBot: {answer}\\n\""
   ]
  },
  {
   "cell_type": "code",
   "execution_count": 9,
   "metadata": {},
   "outputs": [
    {
     "name": "stdout",
     "output_type": "stream",
     "text": [
      "User: Hi, tell me about a famous samurai story\n",
      "ChatBot: One famous samurai story is the Battle of Sekigahara. It took place in 1600 and was a decisive battle that determined the future of Japan. The battle was fought between two powerful samurai factions, the Eastern Army led by Tokugawa Ieyasu and the Western Army led by Ishida Mitsunari. The battle resulted in a victory for Tokugawa Ieyasu, who went on to become the first shogun of the Tokugawa shogunate. The Battle of Sekigahara marked the end of the Sengoku period and the beginning of a long period of peace and stability in Japan.\n"
     ]
    }
   ],
   "source": [
    "await chat(\"Hi, tell me about a famous samurai story\")"
   ]
  },
  {
   "cell_type": "code",
   "execution_count": 10,
   "metadata": {},
   "outputs": [
    {
     "name": "stdout",
     "output_type": "stream",
     "text": [
      "User: Who killed the master?\n",
      "ChatBot: In the tale of the 47 Ronin, the master, Asano Naganori, was forced to commit ritual suicide after he attacked Kira Yoshinaka, a high-ranking official. Asano's attack was in response to Kira's insults and mistreatment.\n"
     ]
    }
   ],
   "source": [
    "await chat(\"Who killed the master?\")"
   ]
  },
  {
   "cell_type": "code",
   "execution_count": 11,
   "metadata": {},
   "outputs": [
    {
     "name": "stdout",
     "output_type": "stream",
     "text": [
      "User: who is Kira Yoshinaka\n",
      "ChatBot: Kira Yoshinaka was a high-ranking official in the Tokugawa shogunate during the Edo period in Japan. He was known for his arrogance and mistreatment of others, including Asano Naganori, the master of the 47 Ronin. Kira's actions ultimately led to his death at the hands of the ronin, who sought revenge for their master's forced suicide.\n"
     ]
    }
   ],
   "source": [
    "await chat(\"who is Kira Yoshinaka\")"
   ]
  },
  {
   "cell_type": "code",
   "execution_count": 13,
   "metadata": {},
   "outputs": [
    {
     "name": "stdout",
     "output_type": "stream",
     "text": [
      "\n",
      "User: Hi, tell me about a famous samurai story\n",
      "ChatBot: One famous samurai story is the tale of the 47 Ronin. It is a true story that took place in 18th century Japan. The story revolves around a group of samurai who seek revenge for the death of their master. After their master is forced to commit ritual suicide, the samurai become ronin, or masterless samurai. They spend years planning and preparing for their revenge, eventually succeeding in their mission. The story is often seen as a symbol of loyalty, honor, and the samurai code of conduct.\n",
      "\n",
      "User: Hi, tell me about a famous samurai story\n",
      "ChatBot: One famous samurai story is the Battle of Sekigahara. It took place in 1600 and was a decisive battle that determined the future of Japan. The battle was fought between two powerful samurai factions, the Eastern Army led by Tokugawa Ieyasu and the Western Army led by Ishida Mitsunari. The battle resulted in a victory for Tokugawa Ieyasu, who went on to become the first shogun of the Tokugawa shogunate. The Battle of Sekigahara marked the end of the Sengoku period and the beginning of a long period of peace and stability in Japan.\n",
      "\n",
      "User: Who killed the master?\n",
      "ChatBot: In the tale of the 47 Ronin, the master, Asano Naganori, was forced to commit ritual suicide after he attacked Kira Yoshinaka, a high-ranking official. Asano's attack was in response to Kira's insults and mistreatment.\n",
      "\n",
      "User: who is Kira Yoshinaka\n",
      "ChatBot: Kira Yoshinaka was a high-ranking official in the Tokugawa shogunate during the Edo period in Japan. He was known for his arrogance and mistreatment of others, including Asano Naganori, the master of the 47 Ronin. Kira's actions ultimately led to his death at the hands of the ronin, who sought revenge for their master's forced suicide.\n",
      "\n"
     ]
    }
   ],
   "source": [
    "print(context[\"history\"])"
   ]
  }
 ],
 "metadata": {
  "kernelspec": {
   "display_name": "Python 3 (ipykernel)",
   "language": "python",
   "name": "python3"
  },
  "language_info": {
   "codemirror_mode": {
    "name": "ipython",
    "version": 3
   },
   "file_extension": ".py",
   "mimetype": "text/x-python",
   "name": "python",
   "nbconvert_exporter": "python",
   "pygments_lexer": "ipython3",
   "version": "3.12.1"
  },
  "vscode": {
   "interpreter": {
    "hash": "f9c719b82740ae1b30ea5322c763d5a7a4aafdeb7aad1ab8066f02d1ae928365"
   }
  }
 },
 "nbformat": 4,
 "nbformat_minor": 4
}
