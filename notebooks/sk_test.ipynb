{
 "cells": [
  {
   "cell_type": "code",
   "execution_count": 1,
   "metadata": {},
   "outputs": [],
   "source": [
    "import semantic_kernel as sk\n",
    "\n",
    "kernel = sk.Kernel()"
   ]
  },
  {
   "cell_type": "code",
   "execution_count": 2,
   "metadata": {},
   "outputs": [
    {
     "data": {
      "text/plain": [
       "<semantic_kernel.kernel.Kernel at 0x22832a9b020>"
      ]
     },
     "execution_count": 2,
     "metadata": {},
     "output_type": "execute_result"
    }
   ],
   "source": [
    "from semantic_kernel.connectors.ai.open_ai import OpenAIChatCompletion\n",
    "\n",
    "api_key, org_id = sk.openai_settings_from_dot_env()\n",
    "\n",
    "kernel.add_chat_service(\"chat-gpt\", OpenAIChatCompletion(ai_model_id=\"gpt-3.5-turbo\", api_key=api_key, org_id=org_id))"
   ]
  },
  {
   "cell_type": "code",
   "execution_count": 3,
   "metadata": {},
   "outputs": [],
   "source": [
    "skill = kernel.import_semantic_skill_from_directory(\"../samples\", \"skills\")"
   ]
  },
  {
   "cell_type": "code",
   "execution_count": 4,
   "metadata": {},
   "outputs": [],
   "source": [
    "joke_function = skill[\"Joke\"]\n",
    "j = joke_function(\"ancient chinese\")"
   ]
  },
  {
   "cell_type": "code",
   "execution_count": 5,
   "metadata": {},
   "outputs": [
    {
     "name": "stdout",
     "output_type": "stream",
     "text": [
      "Why did the ancient Chinese chef always win cooking competitions?\n",
      "\n",
      "Because he always wok-ed the competition!\n"
     ]
    }
   ],
   "source": [
    "print(j)"
   ]
  },
  {
   "cell_type": "code",
   "execution_count": 4,
   "metadata": {},
   "outputs": [],
   "source": [
    "hist_function = skill[\"History\"]"
   ]
  },
  {
   "cell_type": "code",
   "execution_count": 5,
   "metadata": {},
   "outputs": [],
   "source": [
    "h = hist_function(\"Japensee\")"
   ]
  },
  {
   "cell_type": "code",
   "execution_count": 6,
   "metadata": {},
   "outputs": [
    {
     "name": "stdout",
     "output_type": "stream",
     "text": [
      "In the early 17th century, during the Edo period in Japan, there lived a renowned samurai named Hattori Hanzo. Hanzo was not only a skilled warrior but also a trusted retainer of the Tokugawa shogunate. His loyalty and bravery were unmatched, making him a legendary figure in Japanese history.\n",
      "\n",
      "One fateful day, Hattori Hanzo received a secret mission from the shogunate. He was tasked with protecting the shogun's young son, Tokugawa Iemitsu, during his journey to the remote region of Japensee. This area was known for its treacherous terrain and the presence of bandits who sought to exploit the shogun's heir.\n",
      "\n",
      "Hanzo, accompanied by a small group of loyal samurai, embarked on the perilous journey to Japensee. They faced numerous challenges along the way, battling harsh weather conditions and cunning bandits who lurked in the shadows. Hanzo's strategic brilliance and swordsmanship skills proved invaluable in overcoming these obstacles.\n",
      "\n",
      "Upon reaching Japensee, Hanzo and his men established a fortified camp to ensure the safety of Tokugawa Iemitsu. The bandits, aware of the shogun's son's presence, launched several attacks in an attempt to seize him. However, Hanzo's unwavering determination and unwavering loyalty to his mission allowed him to repel each assault with precision and skill.\n",
      "\n",
      "As the days turned into weeks, Hanzo's reputation as an indomitable warrior spread throughout the region. The bandits, realizing the futility of their efforts, eventually retreated, leaving Japensee in peace. Hattori Hanzo had successfully fulfilled his duty, protecting the shogun's son and ensuring his safe return to Edo.\n",
      "\n",
      "News of Hanzo's heroic exploits reached the shogunate, and he was hailed as a national hero. His name became synonymous with loyalty, bravery, and unwavering dedication to duty. Hattori Hanzo's legacy continues to inspire generations of samurai and remains an integral part of Japanese history.\n",
      "\n",
      "+++++\n"
     ]
    }
   ],
   "source": [
    "print(h)"
   ]
  },
  {
   "cell_type": "code",
   "execution_count": null,
   "metadata": {},
   "outputs": [],
   "source": []
  }
 ],
 "metadata": {
  "kernelspec": {
   "display_name": "Python 3 (ipykernel)",
   "language": "python",
   "name": "python3"
  },
  "language_info": {
   "codemirror_mode": {
    "name": "ipython",
    "version": 3
   },
   "file_extension": ".py",
   "mimetype": "text/x-python",
   "name": "python",
   "nbconvert_exporter": "python",
   "pygments_lexer": "ipython3",
   "version": "3.12.1"
  },
  "vscode": {
   "interpreter": {
    "hash": "70c9e85f9c42058b59f4f53bbb7fedf935c169505e933752a022ed776120ec5c"
   }
  }
 },
 "nbformat": 4,
 "nbformat_minor": 4
}
